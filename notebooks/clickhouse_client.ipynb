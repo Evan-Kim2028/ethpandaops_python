{
 "cells": [
  {
   "cell_type": "code",
   "execution_count": 9,
   "metadata": {},
   "outputs": [],
   "source": [
    "import clickhouse_connect\n",
    "import pandas as pd\n",
    "import polars as pl\n",
    "import os"
   ]
  },
  {
   "cell_type": "code",
   "execution_count": 10,
   "metadata": {},
   "outputs": [],
   "source": [
    "# Set read formats to customize data output from Clickhouse\n",
    "# https://clickhouse.com/docs/en/integrations/python#read-format-options-python-types\n",
    "from clickhouse_connect.datatypes.format import set_read_format\n",
    "\n",
    "# Return both IPv6 and IPv4 values as strings\n",
    "set_read_format(\"IPv*\", \"string\")\n",
    "\n",
    "# Return binary as string\n",
    "set_read_format(\"FixedString\", \"string\")\n",
    "\n",
    "# sets large ints to floats so that there are no large int overflow errors when converting to polars dataframe\n",
    "set_read_format(\"Int*\", \"float\")"
   ]
  },
  {
   "cell_type": "code",
   "execution_count": 11,
   "metadata": {},
   "outputs": [],
   "source": [
    "# Create ClickHouse client\n",
    "client = clickhouse_connect.get_client(\n",
    "    host=os.environ.get(\"HOST\"),\n",
    "    username=os.environ.get(\"USERNAME\"),\n",
    "    password=os.environ.get(\"PASSWORD\"),\n",
    "    secure=True,\n",
    ")"
   ]
  },
  {
   "cell_type": "code",
   "execution_count": 12,
   "metadata": {},
   "outputs": [],
   "source": [
    "# Execute the query and return as a pandas dataframe\n",
    "query = \"SELECT * FROM mempool_transaction WHERE event_date_time > NOW() - INTERVAL '1 HOUR' LIMIT 1000\"\n",
    "results: pd.DataFrame = client.query_df(query)"
   ]
  },
  {
   "cell_type": "code",
   "execution_count": 15,
   "metadata": {},
   "outputs": [],
   "source": [
    "# need to drop `meta_labels`, otherwise converting to polars will give the following error:\n",
    "# ComputeError: a StructArray must contain at least one field\n",
    "pl_df: pl.DataFrame = pl.from_pandas(results.drop('meta_labels', axis=1))"
   ]
  },
  {
   "cell_type": "code",
   "execution_count": 16,
   "metadata": {},
   "outputs": [
    {
     "data": {
      "text/html": [
       "<div><style>\n",
       ".dataframe > thead > tr,\n",
       ".dataframe > tbody > tr {\n",
       "  text-align: right;\n",
       "  white-space: pre-wrap;\n",
       "}\n",
       "</style>\n",
       "<small>shape: (5, 36)</small><table border=\"1\" class=\"dataframe\"><thead><tr><th>event_date_time</th><th>hash</th><th>from</th><th>to</th><th>nonce</th><th>gas_price</th><th>gas</th><th>gas_tip_cap</th><th>gas_fee_cap</th><th>value</th><th>type</th><th>size</th><th>call_data_size</th><th>blob_gas</th><th>blob_gas_fee_cap</th><th>blob_hashes</th><th>blob_sidecars_size</th><th>blob_sidecars_empty_size</th><th>meta_client_name</th><th>meta_client_id</th><th>meta_client_version</th><th>meta_client_implementation</th><th>meta_client_os</th><th>meta_client_ip</th><th>meta_client_geo_city</th><th>meta_client_geo_country</th><th>meta_client_geo_country_code</th><th>meta_client_geo_continent_code</th><th>meta_client_geo_longitude</th><th>meta_client_geo_latitude</th><th>meta_client_geo_autonomous_system_number</th><th>meta_client_geo_autonomous_system_organization</th><th>meta_network_id</th><th>meta_network_name</th><th>meta_execution_fork_id_hash</th><th>meta_execution_fork_id_next</th></tr><tr><td>datetime[ms]</td><td>str</td><td>str</td><td>str</td><td>u64</td><td>i64</td><td>u64</td><td>i64</td><td>i64</td><td>f64</td><td>u8</td><td>u32</td><td>u32</td><td>u64</td><td>f64</td><td>list[str]</td><td>u32</td><td>u32</td><td>str</td><td>str</td><td>str</td><td>str</td><td>str</td><td>str</td><td>str</td><td>str</td><td>str</td><td>str</td><td>f64</td><td>f64</td><td>u32</td><td>str</td><td>i32</td><td>str</td><td>str</td><td>str</td></tr></thead><tbody><tr><td>2024-03-13 20:02:55.453</td><td>&quot;0x0e5a62cc9670…</td><td>&quot;0xb7C435A069a6…</td><td>&quot;0x7a4Ee6f9F0aB…</td><td>498</td><td>23609733806</td><td>162653</td><td>1500000000</td><td>23609733806</td><td>0.0</td><td>2</td><td>1467</td><td>1348</td><td>null</td><td>null</td><td>[]</td><td>null</td><td>null</td><td>&quot;xatu-sentry-sf…</td><td>&quot;f8440719-9e3b-…</td><td>&quot;v0.0.154-2b9b2…</td><td>&quot;Xatu&quot;</td><td>&quot;linux&quot;</td><td>&quot;64.23.197.136&quot;</td><td>&quot;San Francisco&quot;</td><td>&quot;United States&quot;</td><td>&quot;US&quot;</td><td>&quot;NA&quot;</td><td>-122.4245</td><td>37.7809</td><td>14061</td><td>&quot;DIGITALOCEAN-A…</td><td>11155111</td><td>&quot;sepolia&quot;</td><td>&quot;0x88cf81d9&quot;</td><td>&quot;0&quot;</td></tr><tr><td>2024-03-13 20:02:55.764</td><td>&quot;0xcbb6b756c4ff…</td><td>&quot;0x11E9CA82A3a7…</td><td>&quot;0x2550F186feB8…</td><td>19899</td><td>1800000000000</td><td>21000</td><td>18000000000</td><td>1800000000000</td><td>0.0</td><td>3</td><td>656172</td><td>0</td><td>655360</td><td>1.8000e11</td><td>[&quot;0x01205e11d249ccced741227aad240fd3acba672b72af6c82ef62471d9243bd1f&quot;, &quot;0x0118e2fe0a1377d29bf8942ff7acabd2a70f264e04e5a197fdb910d9b971505f&quot;, … &quot;0x01e9d8f6f7c5744bbbaab0bf5e1e8760c4d3f4b17124037db25ba928e7cfbd40&quot;]</td><td>655360</td><td>322573</td><td>&quot;xatu-sentry-tl…</td><td>&quot;51c913c8-e330-…</td><td>&quot;v0.0.154-2b9b2…</td><td>&quot;Xatu&quot;</td><td>&quot;linux&quot;</td><td>&quot;64.176.164.164…</td><td>&quot;&quot;</td><td>&quot;Israel&quot;</td><td>&quot;IL&quot;</td><td>&quot;AS&quot;</td><td>34.7652</td><td>32.0666</td><td>20473</td><td>&quot;AS-CHOOPA&quot;</td><td>17000</td><td>&quot;holesky&quot;</td><td>&quot;0x9b192ad0&quot;</td><td>&quot;0&quot;</td></tr><tr><td>2024-03-13 20:02:55.888</td><td>&quot;0xa83fe7ea16fc…</td><td>&quot;0x38d92fA70c5a…</td><td>&quot;0x68349A67117A…</td><td>20749</td><td>34815217116</td><td>67384</td><td>1000000000</td><td>34815217116</td><td>0.0</td><td>2</td><td>3048</td><td>2929</td><td>null</td><td>null</td><td>[]</td><td>null</td><td>null</td><td>&quot;xatu-sentry-sf…</td><td>&quot;f8440719-9e3b-…</td><td>&quot;v0.0.154-2b9b2…</td><td>&quot;Xatu&quot;</td><td>&quot;linux&quot;</td><td>&quot;64.23.197.136&quot;</td><td>&quot;San Francisco&quot;</td><td>&quot;United States&quot;</td><td>&quot;US&quot;</td><td>&quot;NA&quot;</td><td>-122.4245</td><td>37.7809</td><td>14061</td><td>&quot;DIGITALOCEAN-A…</td><td>11155111</td><td>&quot;sepolia&quot;</td><td>&quot;0x88cf81d9&quot;</td><td>&quot;0&quot;</td></tr><tr><td>2024-03-13 20:02:56.194</td><td>&quot;0xa114040a6157…</td><td>&quot;0x35d8F844BF72…</td><td>&quot;0x4f92AD0075ca…</td><td>1</td><td>1000000000</td><td>21000</td><td>1000000000</td><td>1000000000</td><td>1.7118e14</td><td>0</td><td>107</td><td>0</td><td>null</td><td>null</td><td>[]</td><td>null</td><td>null</td><td>&quot;xatu-sentry-sc…</td><td>&quot;6b7dfc90-74f3-…</td><td>&quot;v0.0.154-2b9b2…</td><td>&quot;Xatu&quot;</td><td>&quot;linux&quot;</td><td>&quot;64.176.12.87&quot;</td><td>&quot;Santiago&quot;</td><td>&quot;Chile&quot;</td><td>&quot;CL&quot;</td><td>&quot;SA&quot;</td><td>-70.6536</td><td>-33.4521</td><td>20473</td><td>&quot;AS-CHOOPA&quot;</td><td>1</td><td>&quot;mainnet&quot;</td><td>&quot;0x9f3d2254&quot;</td><td>&quot;0&quot;</td></tr><tr><td>2024-03-13 20:02:56.261</td><td>&quot;0xf5dd8c5a00b8…</td><td>&quot;0x57aC05B66636…</td><td>&quot;0x6ef59533ff18…</td><td>105</td><td>34815217116</td><td>67308</td><td>1000000000</td><td>34815217116</td><td>0.0</td><td>2</td><td>3047</td><td>2931</td><td>null</td><td>null</td><td>[]</td><td>null</td><td>null</td><td>&quot;xatu-sentry-sf…</td><td>&quot;f8440719-9e3b-…</td><td>&quot;v0.0.154-2b9b2…</td><td>&quot;Xatu&quot;</td><td>&quot;linux&quot;</td><td>&quot;64.23.197.136&quot;</td><td>&quot;San Francisco&quot;</td><td>&quot;United States&quot;</td><td>&quot;US&quot;</td><td>&quot;NA&quot;</td><td>-122.4245</td><td>37.7809</td><td>14061</td><td>&quot;DIGITALOCEAN-A…</td><td>11155111</td><td>&quot;sepolia&quot;</td><td>&quot;0x88cf81d9&quot;</td><td>&quot;0&quot;</td></tr></tbody></table></div>"
      ],
      "text/plain": [
       "shape: (5, 36)\n",
       "┌───────────┬───────────┬───────────┬───────────┬───┬───────────┬───────────┬───────────┬──────────┐\n",
       "│ event_dat ┆ hash      ┆ from      ┆ to        ┆ … ┆ meta_netw ┆ meta_netw ┆ meta_exec ┆ meta_exe │\n",
       "│ e_time    ┆ ---       ┆ ---       ┆ ---       ┆   ┆ ork_id    ┆ ork_name  ┆ ution_for ┆ cution_f │\n",
       "│ ---       ┆ str       ┆ str       ┆ str       ┆   ┆ ---       ┆ ---       ┆ k_id_hash ┆ ork_id_n │\n",
       "│ datetime[ ┆           ┆           ┆           ┆   ┆ i32       ┆ str       ┆ ---       ┆ ext      │\n",
       "│ ms]       ┆           ┆           ┆           ┆   ┆           ┆           ┆ str       ┆ ---      │\n",
       "│           ┆           ┆           ┆           ┆   ┆           ┆           ┆           ┆ str      │\n",
       "╞═══════════╪═══════════╪═══════════╪═══════════╪═══╪═══════════╪═══════════╪═══════════╪══════════╡\n",
       "│ 2024-03-1 ┆ 0x0e5a62c ┆ 0xb7C435A ┆ 0x7a4Ee6f ┆ … ┆ 11155111  ┆ sepolia   ┆ 0x88cf81d ┆ 0        │\n",
       "│ 3 20:02:5 ┆ c96708ff5 ┆ 069a62b39 ┆ 9F0aB037f ┆   ┆           ┆           ┆ 9         ┆          │\n",
       "│ 5.453     ┆ 1800c0d0d ┆ 82E3F0795 ┆ E771FC36D ┆   ┆           ┆           ┆           ┆          │\n",
       "│           ┆ e26bb…    ┆ 95907…    ┆ 39C1E…    ┆   ┆           ┆           ┆           ┆          │\n",
       "│ 2024-03-1 ┆ 0xcbb6b75 ┆ 0x11E9CA8 ┆ 0x2550F18 ┆ … ┆ 17000     ┆ holesky   ┆ 0x9b192ad ┆ 0        │\n",
       "│ 3 20:02:5 ┆ 6c4fffa87 ┆ 2A3a762b4 ┆ 6feB886a3 ┆   ┆           ┆           ┆ 0         ┆          │\n",
       "│ 5.764     ┆ 0a0aaad1a ┆ B5bd264d4 ┆ 8a904BB97 ┆   ┆           ┆           ┆           ┆          │\n",
       "│           ┆ f01b4…    ┆ 173a2…    ┆ A3DC2…    ┆   ┆           ┆           ┆           ┆          │\n",
       "│ 2024-03-1 ┆ 0xa83fe7e ┆ 0x38d92fA ┆ 0x68349A6 ┆ … ┆ 11155111  ┆ sepolia   ┆ 0x88cf81d ┆ 0        │\n",
       "│ 3 20:02:5 ┆ a16fc714f ┆ 70c5aF4F1 ┆ 7117A4910 ┆   ┆           ┆           ┆ 9         ┆          │\n",
       "│ 5.888     ┆ 4886f467c ┆ 880b77a97 ┆ 204B27f5C ┆   ┆           ┆           ┆           ┆          │\n",
       "│           ┆ e5e5a…    ┆ 0D49B…    ┆ E52c2…    ┆   ┆           ┆           ┆           ┆          │\n",
       "│ 2024-03-1 ┆ 0xa114040 ┆ 0x35d8F84 ┆ 0x4f92AD0 ┆ … ┆ 1         ┆ mainnet   ┆ 0x9f3d225 ┆ 0        │\n",
       "│ 3 20:02:5 ┆ a61577d53 ┆ 4BF724Af4 ┆ 075ca6A97 ┆   ┆           ┆           ┆ 4         ┆          │\n",
       "│ 6.194     ┆ 6c2dbe39f ┆ 7B9183104 ┆ 3d8C3F4C0 ┆   ┆           ┆           ┆           ┆          │\n",
       "│           ┆ 77030…    ┆ 222f1…    ┆ BBA48…    ┆   ┆           ┆           ┆           ┆          │\n",
       "│ 2024-03-1 ┆ 0xf5dd8c5 ┆ 0x57aC05B ┆ 0x6ef5953 ┆ … ┆ 11155111  ┆ sepolia   ┆ 0x88cf81d ┆ 0        │\n",
       "│ 3 20:02:5 ┆ a00b89654 ┆ 6663682EF ┆ 3ff183a79 ┆   ┆           ┆           ┆ 9         ┆          │\n",
       "│ 6.261     ┆ 5575864f9 ┆ 1B85708B9 ┆ cC9b6abAF ┆   ┆           ┆           ┆           ┆          │\n",
       "│           ┆ 8880e…    ┆ D58B5…    ┆ 00292…    ┆   ┆           ┆           ┆           ┆          │\n",
       "└───────────┴───────────┴───────────┴───────────┴───┴───────────┴───────────┴───────────┴──────────┘"
      ]
     },
     "execution_count": 16,
     "metadata": {},
     "output_type": "execute_result"
    }
   ],
   "source": [
    "pl_df.head(5)"
   ]
  }
 ],
 "metadata": {
  "kernelspec": {
   "display_name": ".venv",
   "language": "python",
   "name": "python3"
  },
  "language_info": {
   "codemirror_mode": {
    "name": "ipython",
    "version": 3
   },
   "file_extension": ".py",
   "mimetype": "text/x-python",
   "name": "python",
   "nbconvert_exporter": "python",
   "pygments_lexer": "ipython3",
   "version": "3.12.2"
  }
 },
 "nbformat": 4,
 "nbformat_minor": 2
}
